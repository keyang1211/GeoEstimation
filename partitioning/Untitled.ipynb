{
 "cells": [
  {
   "cell_type": "code",
   "execution_count": 1,
   "id": "09cc908b-a20c-47c7-a6ec-c8ffb3eea6e6",
   "metadata": {
    "tags": []
   },
   "outputs": [],
   "source": [
    "import pandas as pd"
   ]
  },
  {
   "cell_type": "code",
   "execution_count": 2,
   "id": "ee29eb0d-f891-45fb-9b6e-0a580bfa8808",
   "metadata": {
    "tags": []
   },
   "outputs": [],
   "source": [
    "df = pd.read_csv(\"grid_info_5.csv\")"
   ]
  },
  {
   "cell_type": "code",
   "execution_count": 3,
   "id": "4430f0e7-1ba4-4f7b-9701-72dc6a14e5ab",
   "metadata": {
    "tags": []
   },
   "outputs": [
    {
     "data": {
      "text/html": [
       "<div>\n",
       "<style scoped>\n",
       "    .dataframe tbody tr th:only-of-type {\n",
       "        vertical-align: middle;\n",
       "    }\n",
       "\n",
       "    .dataframe tbody tr th {\n",
       "        vertical-align: top;\n",
       "    }\n",
       "\n",
       "    .dataframe thead th {\n",
       "        text-align: right;\n",
       "    }\n",
       "</style>\n",
       "<table border=\"1\" class=\"dataframe\">\n",
       "  <thead>\n",
       "    <tr style=\"text-align: right;\">\n",
       "      <th></th>\n",
       "      <th>class_label</th>\n",
       "      <th>grid_id</th>\n",
       "      <th>center_latitude</th>\n",
       "      <th>center_longitude</th>\n",
       "      <th>latitude_range</th>\n",
       "      <th>longitude_range</th>\n",
       "    </tr>\n",
       "  </thead>\n",
       "  <tbody>\n",
       "    <tr>\n",
       "      <th>0</th>\n",
       "      <td>0</td>\n",
       "      <td>Grid_0_0</td>\n",
       "      <td>-87.1875</td>\n",
       "      <td>-174.375</td>\n",
       "      <td>(-90.0, -84.375)</td>\n",
       "      <td>(-180.0, -168.75)</td>\n",
       "    </tr>\n",
       "    <tr>\n",
       "      <th>1</th>\n",
       "      <td>1</td>\n",
       "      <td>Grid_0_1</td>\n",
       "      <td>-87.1875</td>\n",
       "      <td>-163.125</td>\n",
       "      <td>(-90.0, -84.375)</td>\n",
       "      <td>(-168.75, -157.5)</td>\n",
       "    </tr>\n",
       "    <tr>\n",
       "      <th>2</th>\n",
       "      <td>2</td>\n",
       "      <td>Grid_0_2</td>\n",
       "      <td>-87.1875</td>\n",
       "      <td>-151.875</td>\n",
       "      <td>(-90.0, -84.375)</td>\n",
       "      <td>(-157.5, -146.25)</td>\n",
       "    </tr>\n",
       "    <tr>\n",
       "      <th>3</th>\n",
       "      <td>3</td>\n",
       "      <td>Grid_0_3</td>\n",
       "      <td>-87.1875</td>\n",
       "      <td>-140.625</td>\n",
       "      <td>(-90.0, -84.375)</td>\n",
       "      <td>(-146.25, -135.0)</td>\n",
       "    </tr>\n",
       "    <tr>\n",
       "      <th>4</th>\n",
       "      <td>4</td>\n",
       "      <td>Grid_0_4</td>\n",
       "      <td>-87.1875</td>\n",
       "      <td>-129.375</td>\n",
       "      <td>(-90.0, -84.375)</td>\n",
       "      <td>(-135.0, -123.75)</td>\n",
       "    </tr>\n",
       "  </tbody>\n",
       "</table>\n",
       "</div>"
      ],
      "text/plain": [
       "   class_label   grid_id  center_latitude  center_longitude    latitude_range  \\\n",
       "0            0  Grid_0_0         -87.1875          -174.375  (-90.0, -84.375)   \n",
       "1            1  Grid_0_1         -87.1875          -163.125  (-90.0, -84.375)   \n",
       "2            2  Grid_0_2         -87.1875          -151.875  (-90.0, -84.375)   \n",
       "3            3  Grid_0_3         -87.1875          -140.625  (-90.0, -84.375)   \n",
       "4            4  Grid_0_4         -87.1875          -129.375  (-90.0, -84.375)   \n",
       "\n",
       "     longitude_range  \n",
       "0  (-180.0, -168.75)  \n",
       "1  (-168.75, -157.5)  \n",
       "2  (-157.5, -146.25)  \n",
       "3  (-146.25, -135.0)  \n",
       "4  (-135.0, -123.75)  "
      ]
     },
     "execution_count": 3,
     "metadata": {},
     "output_type": "execute_result"
    }
   ],
   "source": [
    "df.head()"
   ]
  },
  {
   "cell_type": "code",
   "execution_count": 8,
   "id": "e55f526c-ecb3-4805-bc5a-b04106b2f309",
   "metadata": {
    "tags": []
   },
   "outputs": [
    {
     "data": {
      "text/plain": [
       "'(-90.0, -84.375)'"
      ]
     },
     "execution_count": 8,
     "metadata": {},
     "output_type": "execute_result"
    }
   ],
   "source": [
    "df['latitude_range'][0]"
   ]
  },
  {
   "cell_type": "code",
   "execution_count": 10,
   "id": "1e60214c-8d85-4ae0-afd0-bfd57dbd63ba",
   "metadata": {
    "tags": []
   },
   "outputs": [
    {
     "data": {
      "text/plain": [
       "numpy.int64"
      ]
     },
     "execution_count": 10,
     "metadata": {},
     "output_type": "execute_result"
    }
   ],
   "source": [
    "type(df['class_label'][0])"
   ]
  },
  {
   "cell_type": "code",
   "execution_count": 17,
   "id": "917de46d-a703-4848-bc5f-db764b85be09",
   "metadata": {
    "tags": []
   },
   "outputs": [],
   "source": [
    "df['latitude_range'] = df['latitude_range'].apply(lambda x: tuple(map(float, x.strip('()').split(','))))"
   ]
  },
  {
   "cell_type": "code",
   "execution_count": 19,
   "id": "db5a85b6-eef8-4ca5-8495-64a674c3237c",
   "metadata": {
    "tags": []
   },
   "outputs": [
    {
     "data": {
      "text/plain": [
       "(-90.0, -84.375)"
      ]
     },
     "execution_count": 19,
     "metadata": {},
     "output_type": "execute_result"
    }
   ],
   "source": [
    "df['latitude_range'][0]"
   ]
  },
  {
   "cell_type": "code",
   "execution_count": null,
   "id": "4c517b56-4900-418a-aed5-d590496cccd7",
   "metadata": {},
   "outputs": [],
   "source": []
  }
 ],
 "metadata": {
  "kernelspec": {
   "display_name": "Python 3 (ipykernel)",
   "language": "python",
   "name": "python3"
  },
  "language_info": {
   "codemirror_mode": {
    "name": "ipython",
    "version": 3
   },
   "file_extension": ".py",
   "mimetype": "text/x-python",
   "name": "python",
   "nbconvert_exporter": "python",
   "pygments_lexer": "ipython3",
   "version": "3.8.18"
  }
 },
 "nbformat": 4,
 "nbformat_minor": 5
}
