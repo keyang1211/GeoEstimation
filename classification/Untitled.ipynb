{
 "cells": [
  {
   "cell_type": "code",
   "execution_count": 2,
   "id": "6fb7fc22-e239-4cf1-8bb5-30cb6d8009de",
   "metadata": {
    "tags": []
   },
   "outputs": [
    {
     "name": "stdout",
     "output_type": "stream",
     "text": [
      "第一个键的第一个元素: <class 'float'>\n",
      "第二个键的第二个元素: 89.01\n",
      "第三个键的整个列表: [90.12, 23.45]\n"
     ]
    }
   ],
   "source": [
    "import json\n",
    "\n",
    "# JSON数据\n",
    "json_data = {\n",
    "    \"1\": [12.34, 45.67],\n",
    "    \"2\": [56.78, 89.01],\n",
    "    \"3\": [90.12, 23.45]\n",
    "}\n",
    "\n",
    "# 访问第一个键的第一个元素\n",
    "element = json_data[\"1\"][0]\n",
    "print(\"第一个键的第一个元素:\", type(element))\n",
    "\n",
    "# 访问第二个键的第二个元素\n",
    "element = json_data[\"2\"][1]\n",
    "print(\"第二个键的第二个元素:\", element)\n",
    "\n",
    "# 访问第三个键的整个列表\n",
    "sublist = json_data[\"3\"]\n",
    "print(\"第三个键的整个列表:\", sublist)\n"
   ]
  },
  {
   "cell_type": "code",
   "execution_count": 3,
   "id": "afabbab6-b23d-4faa-a047-f4bc45f25c19",
   "metadata": {
    "tags": []
   },
   "outputs": [],
   "source": [
    "import pandas as pd"
   ]
  },
  {
   "cell_type": "code",
   "execution_count": 5,
   "id": "5c48519c-32ec-4ace-90cb-48f4be053d56",
   "metadata": {
    "tags": []
   },
   "outputs": [],
   "source": [
    "df=pd.read_csv('~/Documents/GitHub/GeoEstimation/resources/yfcc25600_places365.csv')"
   ]
  },
  {
   "cell_type": "code",
   "execution_count": 9,
   "id": "0cefeedd-0b85-404a-bf0f-d2c562d6f728",
   "metadata": {
    "tags": []
   },
   "outputs": [
    {
     "data": {
      "text/plain": [
       "numpy.float64"
      ]
     },
     "execution_count": 9,
     "metadata": {},
     "output_type": "execute_result"
    }
   ],
   "source": [
    "type(df['LAT'][0])"
   ]
  },
  {
   "cell_type": "code",
   "execution_count": 11,
   "id": "e8f6c2ae-6887-489f-b7af-9b48a2370955",
   "metadata": {
    "tags": []
   },
   "outputs": [
    {
     "name": "stdout",
     "output_type": "stream",
     "text": [
      "<class 'numpy.float64'>\n"
     ]
    }
   ],
   "source": [
    "import pandas as pd\n",
    "\n",
    "# 创建一个示例DataFrame\n",
    "data = {'name': ['Alice', 'Bob', 'Charlie'],\n",
    "        'age': [25, 30, None]}  # 包含缺失值\n",
    "\n",
    "df = pd.DataFrame(data)\n",
    "\n",
    "# 将DataFrame写入JSON文件，指定一些参数\n",
    "df.to_json('data.json', orient='split', date_format='iso', default_handler=str)\n",
    "\n",
    "# 在读取时使用相同的参数来解析JSON文件\n",
    "loaded_df = pd.read_json('data.json', orient='split', convert_dates=False, convert_axes=False)\n",
    "print(type(loaded_df['age'][0]))\n"
   ]
  },
  {
   "cell_type": "code",
   "execution_count": 13,
   "id": "4a9ad9a6-f0ff-4a1b-ba33-a5d485bd02ab",
   "metadata": {},
   "outputs": [
    {
     "data": {
      "text/plain": [
       "2"
      ]
     },
     "execution_count": 13,
     "metadata": {},
     "output_type": "execute_result"
    }
   ],
   "source": [
    "json_data = {\n",
    "    \"1\": [12.34, 45.67],\n",
    "    \"2\": [56.78, 89.01],\n",
    "    \"3\": [90.12, 23.45]\n",
    "}\n",
    "len(json_data[\"1\"])"
   ]
  },
  {
   "cell_type": "code",
   "execution_count": null,
   "id": "c00fbd05-c4a2-4b7f-8a09-1397dd96ee3e",
   "metadata": {},
   "outputs": [],
   "source": []
  }
 ],
 "metadata": {
  "kernelspec": {
   "display_name": "Python 3 (ipykernel)",
   "language": "python",
   "name": "python3"
  },
  "language_info": {
   "codemirror_mode": {
    "name": "ipython",
    "version": 3
   },
   "file_extension": ".py",
   "mimetype": "text/x-python",
   "name": "python",
   "nbconvert_exporter": "python",
   "pygments_lexer": "ipython3",
   "version": "3.8.18"
  }
 },
 "nbformat": 4,
 "nbformat_minor": 5
}
